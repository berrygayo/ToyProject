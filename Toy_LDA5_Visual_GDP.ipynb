{
 "cells": [
  {
   "cell_type": "code",
   "execution_count": 31,
   "metadata": {},
   "outputs": [],
   "source": [
    "import pandas as pd \n",
    "\n",
    "data=pd.read_excel('online_news.xlsx')"
   ]
  },
  {
   "cell_type": "code",
   "execution_count": 32,
   "metadata": {},
   "outputs": [
    {
     "data": {
      "text/html": [
       "<div>\n",
       "<style scoped>\n",
       "    .dataframe tbody tr th:only-of-type {\n",
       "        vertical-align: middle;\n",
       "    }\n",
       "\n",
       "    .dataframe tbody tr th {\n",
       "        vertical-align: top;\n",
       "    }\n",
       "\n",
       "    .dataframe thead th {\n",
       "        text-align: right;\n",
       "    }\n",
       "</style>\n",
       "<table border=\"1\" class=\"dataframe\">\n",
       "  <thead>\n",
       "    <tr style=\"text-align: right;\">\n",
       "      <th></th>\n",
       "      <th>Index</th>\n",
       "      <th>content</th>\n",
       "      <th>created_date</th>\n",
       "      <th>publisher</th>\n",
       "      <th>section</th>\n",
       "      <th>title</th>\n",
       "      <th>분기</th>\n",
       "      <th>실질GDP</th>\n",
       "    </tr>\n",
       "  </thead>\n",
       "  <tbody>\n",
       "    <tr>\n",
       "      <th>0</th>\n",
       "      <td>198930</td>\n",
       "      <td>삼성전자의 주종목이 종합반도체로 바뀌는 걸까. 올해 삼성전자의 반도체 부문 영업이익...</td>\n",
       "      <td>2015-01-01T02:22:00.000000</td>\n",
       "      <td>서울신문</td>\n",
       "      <td>economy</td>\n",
       "      <td>D램 매출 14%↑… 반도체 새해도 호황기</td>\n",
       "      <td>2015Q1</td>\n",
       "      <td>2.5</td>\n",
       "    </tr>\n",
       "    <tr>\n",
       "      <th>1</th>\n",
       "      <td>198929</td>\n",
       "      <td>‘전자업계 효자’ 2015년에도 질주삼성, 中시안 공장 1조 들여 증산… SK, 1...</td>\n",
       "      <td>2015-01-01T03:02:00.000000</td>\n",
       "      <td>동아일보</td>\n",
       "      <td>economy</td>\n",
       "      <td>으랏차차, 반도체… ‘14조 대박신화’ 이어간다</td>\n",
       "      <td>2015Q1</td>\n",
       "      <td>2.5</td>\n",
       "    </tr>\n",
       "    <tr>\n",
       "      <th>2</th>\n",
       "      <td>198928</td>\n",
       "      <td>[이데일리 김보리 조진영 기자] 중국의 스마트폰 샤오미(小米)는 ‘짝퉁 애플’이란 ...</td>\n",
       "      <td>2015-01-01T03:06:00.000000</td>\n",
       "      <td>이데일리</td>\n",
       "      <td>economy</td>\n",
       "      <td>[광복70년]고사 직전 제조업 ‘규제완화·내수활성화’ 링거 꽂아야</td>\n",
       "      <td>2015Q1</td>\n",
       "      <td>2.5</td>\n",
       "    </tr>\n",
       "    <tr>\n",
       "      <th>3</th>\n",
       "      <td>198926</td>\n",
       "      <td>◆ 2015 업종별 유망주 ① IT·전자 ◆\\n\\n\\n‘반도체 호황의 지속, 대형 ...</td>\n",
       "      <td>2015-01-01T04:03:00.000000</td>\n",
       "      <td>매일경제</td>\n",
       "      <td>economy</td>\n",
       "      <td>삼성전자 바닥 치고 2분기부터 실적 개선될듯</td>\n",
       "      <td>2015Q1</td>\n",
       "      <td>2.5</td>\n",
       "    </tr>\n",
       "    <tr>\n",
       "      <th>4</th>\n",
       "      <td>198927</td>\n",
       "      <td>‘상저하고(上低下高·주가가 상반기에 부진하고 하반기에는 올라가는 것 ), 지배구조·...</td>\n",
       "      <td>2015-01-01T04:03:00.000000</td>\n",
       "      <td>매일경제</td>\n",
       "      <td>economy</td>\n",
       "      <td>리서치센터장 5인이 보는 새해 증시 투자전략</td>\n",
       "      <td>2015Q1</td>\n",
       "      <td>2.5</td>\n",
       "    </tr>\n",
       "  </tbody>\n",
       "</table>\n",
       "</div>"
      ],
      "text/plain": [
       "    Index                                            content  \\\n",
       "0  198930  삼성전자의 주종목이 종합반도체로 바뀌는 걸까. 올해 삼성전자의 반도체 부문 영업이익...   \n",
       "1  198929  ‘전자업계 효자’ 2015년에도 질주삼성, 中시안 공장 1조 들여 증산… SK, 1...   \n",
       "2  198928  [이데일리 김보리 조진영 기자] 중국의 스마트폰 샤오미(小米)는 ‘짝퉁 애플’이란 ...   \n",
       "3  198926  ◆ 2015 업종별 유망주 ① IT·전자 ◆\\n\\n\\n‘반도체 호황의 지속, 대형 ...   \n",
       "4  198927  ‘상저하고(上低下高·주가가 상반기에 부진하고 하반기에는 올라가는 것 ), 지배구조·...   \n",
       "\n",
       "                 created_date publisher  section  \\\n",
       "0  2015-01-01T02:22:00.000000      서울신문  economy   \n",
       "1  2015-01-01T03:02:00.000000      동아일보  economy   \n",
       "2  2015-01-01T03:06:00.000000      이데일리  economy   \n",
       "3  2015-01-01T04:03:00.000000      매일경제  economy   \n",
       "4  2015-01-01T04:03:00.000000      매일경제  economy   \n",
       "\n",
       "                                  title      분기  실질GDP  \n",
       "0               D램 매출 14%↑… 반도체 새해도 호황기  2015Q1    2.5  \n",
       "1            으랏차차, 반도체… ‘14조 대박신화’ 이어간다  2015Q1    2.5  \n",
       "2  [광복70년]고사 직전 제조업 ‘규제완화·내수활성화’ 링거 꽂아야  2015Q1    2.5  \n",
       "3              삼성전자 바닥 치고 2분기부터 실적 개선될듯  2015Q1    2.5  \n",
       "4              리서치센터장 5인이 보는 새해 증시 투자전략  2015Q1    2.5  "
      ]
     },
     "execution_count": 32,
     "metadata": {},
     "output_type": "execute_result"
    }
   ],
   "source": [
    "data.head()"
   ]
  },
  {
   "cell_type": "code",
   "execution_count": 33,
   "metadata": {
    "scrolled": true
   },
   "outputs": [
    {
     "data": {
      "text/html": [
       "<div>\n",
       "<style scoped>\n",
       "    .dataframe tbody tr th:only-of-type {\n",
       "        vertical-align: middle;\n",
       "    }\n",
       "\n",
       "    .dataframe tbody tr th {\n",
       "        vertical-align: top;\n",
       "    }\n",
       "\n",
       "    .dataframe thead th {\n",
       "        text-align: right;\n",
       "    }\n",
       "</style>\n",
       "<table border=\"1\" class=\"dataframe\">\n",
       "  <thead>\n",
       "    <tr style=\"text-align: right;\">\n",
       "      <th></th>\n",
       "      <th>created_date</th>\n",
       "      <th>실질GDP</th>\n",
       "    </tr>\n",
       "  </thead>\n",
       "  <tbody>\n",
       "    <tr>\n",
       "      <th>0</th>\n",
       "      <td>2015-01-01T02:22:00.000000</td>\n",
       "      <td>2.5</td>\n",
       "    </tr>\n",
       "    <tr>\n",
       "      <th>1</th>\n",
       "      <td>2015-01-01T03:02:00.000000</td>\n",
       "      <td>2.5</td>\n",
       "    </tr>\n",
       "    <tr>\n",
       "      <th>2</th>\n",
       "      <td>2015-01-01T03:06:00.000000</td>\n",
       "      <td>2.5</td>\n",
       "    </tr>\n",
       "    <tr>\n",
       "      <th>3</th>\n",
       "      <td>2015-01-01T04:03:00.000000</td>\n",
       "      <td>2.5</td>\n",
       "    </tr>\n",
       "    <tr>\n",
       "      <th>4</th>\n",
       "      <td>2015-01-01T04:03:00.000000</td>\n",
       "      <td>2.5</td>\n",
       "    </tr>\n",
       "  </tbody>\n",
       "</table>\n",
       "</div>"
      ],
      "text/plain": [
       "                 created_date  실질GDP\n",
       "0  2015-01-01T02:22:00.000000    2.5\n",
       "1  2015-01-01T03:02:00.000000    2.5\n",
       "2  2015-01-01T03:06:00.000000    2.5\n",
       "3  2015-01-01T04:03:00.000000    2.5\n",
       "4  2015-01-01T04:03:00.000000    2.5"
      ]
     },
     "execution_count": 33,
     "metadata": {},
     "output_type": "execute_result"
    }
   ],
   "source": [
    "del data['Index']\n",
    "del data['content']\n",
    "del data['publisher']\n",
    "del data['section']\n",
    "del data['title']\n",
    "del data['분기']\n",
    "\n",
    "data.head()"
   ]
  },
  {
   "cell_type": "markdown",
   "metadata": {},
   "source": [
    "# created_date 컬럼을 datetime으로 변환"
   ]
  },
  {
   "cell_type": "code",
   "execution_count": 34,
   "metadata": {},
   "outputs": [],
   "source": [
    "import datetime as dt\n",
    "data['created_date']=pd.to_datetime(data['created_date'])"
   ]
  },
  {
   "cell_type": "code",
   "execution_count": 35,
   "metadata": {},
   "outputs": [
    {
     "name": "stdout",
     "output_type": "stream",
     "text": [
      "<class 'pandas.core.frame.DataFrame'>\n",
      "RangeIndex: 86382 entries, 0 to 86381\n",
      "Data columns (total 2 columns):\n",
      "created_date    86382 non-null datetime64[ns]\n",
      "실질GDP           86382 non-null float64\n",
      "dtypes: datetime64[ns](1), float64(1)\n",
      "memory usage: 1.3 MB\n"
     ]
    }
   ],
   "source": [
    "# 확인\n",
    "data.info()"
   ]
  },
  {
   "cell_type": "code",
   "execution_count": 36,
   "metadata": {},
   "outputs": [],
   "source": [
    "# ymd 컬럼 생성\n",
    "import datetime as dt\n",
    "data['ymd']=data['created_date'].dt.strftime('%Y-%m-%d')"
   ]
  },
  {
   "cell_type": "code",
   "execution_count": 37,
   "metadata": {},
   "outputs": [
    {
     "name": "stdout",
     "output_type": "stream",
     "text": [
      "<class 'pandas.core.frame.DataFrame'>\n",
      "RangeIndex: 86382 entries, 0 to 86381\n",
      "Data columns (total 3 columns):\n",
      "created_date    86382 non-null datetime64[ns]\n",
      "실질GDP           86382 non-null float64\n",
      "ymd             86382 non-null object\n",
      "dtypes: datetime64[ns](1), float64(1), object(1)\n",
      "memory usage: 2.0+ MB\n"
     ]
    },
    {
     "data": {
      "text/plain": [
       "0        2015-01-01\n",
       "1        2015-01-01\n",
       "2        2015-01-01\n",
       "3        2015-01-01\n",
       "4        2015-01-01\n",
       "            ...    \n",
       "86377    2016-12-31\n",
       "86378    2016-12-31\n",
       "86379    2016-12-31\n",
       "86380    2016-12-31\n",
       "86381    2016-12-31\n",
       "Name: ymd, Length: 86382, dtype: object"
      ]
     },
     "execution_count": 37,
     "metadata": {},
     "output_type": "execute_result"
    }
   ],
   "source": [
    "# 확인\n",
    "data.info()\n",
    "data['ymd']"
   ]
  },
  {
   "cell_type": "code",
   "execution_count": 38,
   "metadata": {},
   "outputs": [],
   "source": [
    "del data['created_date']"
   ]
  },
  {
   "cell_type": "code",
   "execution_count": 39,
   "metadata": {},
   "outputs": [
    {
     "data": {
      "text/html": [
       "<div>\n",
       "<style scoped>\n",
       "    .dataframe tbody tr th:only-of-type {\n",
       "        vertical-align: middle;\n",
       "    }\n",
       "\n",
       "    .dataframe tbody tr th {\n",
       "        vertical-align: top;\n",
       "    }\n",
       "\n",
       "    .dataframe thead th {\n",
       "        text-align: right;\n",
       "    }\n",
       "</style>\n",
       "<table border=\"1\" class=\"dataframe\">\n",
       "  <thead>\n",
       "    <tr style=\"text-align: right;\">\n",
       "      <th></th>\n",
       "      <th>실질GDP</th>\n",
       "      <th>ymd</th>\n",
       "    </tr>\n",
       "  </thead>\n",
       "  <tbody>\n",
       "    <tr>\n",
       "      <th>0</th>\n",
       "      <td>2.5</td>\n",
       "      <td>2015-01-01</td>\n",
       "    </tr>\n",
       "    <tr>\n",
       "      <th>1</th>\n",
       "      <td>2.5</td>\n",
       "      <td>2015-01-01</td>\n",
       "    </tr>\n",
       "    <tr>\n",
       "      <th>2</th>\n",
       "      <td>2.5</td>\n",
       "      <td>2015-01-01</td>\n",
       "    </tr>\n",
       "    <tr>\n",
       "      <th>3</th>\n",
       "      <td>2.5</td>\n",
       "      <td>2015-01-01</td>\n",
       "    </tr>\n",
       "    <tr>\n",
       "      <th>4</th>\n",
       "      <td>2.5</td>\n",
       "      <td>2015-01-01</td>\n",
       "    </tr>\n",
       "  </tbody>\n",
       "</table>\n",
       "</div>"
      ],
      "text/plain": [
       "   실질GDP         ymd\n",
       "0    2.5  2015-01-01\n",
       "1    2.5  2015-01-01\n",
       "2    2.5  2015-01-01\n",
       "3    2.5  2015-01-01\n",
       "4    2.5  2015-01-01"
      ]
     },
     "execution_count": 39,
     "metadata": {},
     "output_type": "execute_result"
    }
   ],
   "source": [
    "data.head()"
   ]
  },
  {
   "cell_type": "code",
   "execution_count": 40,
   "metadata": {},
   "outputs": [],
   "source": [
    "data.to_excel('visual_GDP.xlsx')"
   ]
  }
 ],
 "metadata": {
  "kernelspec": {
   "display_name": "Python 3",
   "language": "python",
   "name": "python3"
  },
  "language_info": {
   "codemirror_mode": {
    "name": "ipython",
    "version": 3
   },
   "file_extension": ".py",
   "mimetype": "text/x-python",
   "name": "python",
   "nbconvert_exporter": "python",
   "pygments_lexer": "ipython3",
   "version": "3.7.4"
  }
 },
 "nbformat": 4,
 "nbformat_minor": 2
}

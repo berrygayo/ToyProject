{
 "cells": [
  {
   "cell_type": "code",
   "execution_count": null,
   "metadata": {},
   "outputs": [],
   "source": [
    "import pandas as pd\n",
    "\n",
    "# 뉴스 파일 로드\n",
    "\n",
    "data=pd.read_excel('D:\\\\toy\\\\data\\\\online_news_pos.xlsx')"
   ]
  },
  {
   "cell_type": "code",
   "execution_count": null,
   "metadata": {},
   "outputs": [],
   "source": [
    "# 확인\n",
    "\n",
    "data['pos_t'][1]\n",
    "data['pos_c'][1]"
   ]
  },
  {
   "cell_type": "markdown",
   "metadata": {},
   "source": [
    "# title 불용어 제거를 위한 전처리"
   ]
  },
  {
   "cell_type": "code",
   "execution_count": null,
   "metadata": {},
   "outputs": [],
   "source": [
    "# pos_t 리스트안의 문자형 분리 & 특수문자 제거\n",
    "\n",
    "data_sp=[]\n",
    "for i in range(len(data)):\n",
    "    data_sp.append(data['pos_t'][i].split(','))\n",
    "    \n",
    "data_sp[0]"
   ]
  },
  {
   "cell_type": "code",
   "execution_count": null,
   "metadata": {},
   "outputs": [],
   "source": [
    "data_st=[]\n",
    "for i in range(len(data_sp)):\n",
    "    data_st2=[]\n",
    "    for j in data_sp[i]:\n",
    "        data_st2.append(j.lstrip('[').rstrip('\"]').strip(\" ' \"))\n",
    "    data_st.append(data_st2)\n",
    "\n",
    "data_st[0]"
   ]
  },
  {
   "cell_type": "code",
   "execution_count": null,
   "metadata": {},
   "outputs": [],
   "source": [
    "# 불용어 로드\n",
    "\n",
    "stop_word=pd.read_excel('D:\\\\toy\\\\data\\\\stopwords_v0.87.xlsx')"
   ]
  },
  {
   "cell_type": "code",
   "execution_count": null,
   "metadata": {},
   "outputs": [],
   "source": [
    "# 불용어를 리스트로 변환\n",
    "\n",
    "SW=[]\n",
    "for k in stop_word['단어']:\n",
    "    SW.append(k)"
   ]
  },
  {
   "cell_type": "code",
   "execution_count": null,
   "metadata": {},
   "outputs": [],
   "source": [
    "# 불용어 리스트 set으로 변환\n",
    "\n",
    "a=set(SW)"
   ]
  },
  {
   "cell_type": "markdown",
   "metadata": {},
   "source": [
    "# title 불용어 제거"
   ]
  },
  {
   "cell_type": "code",
   "execution_count": null,
   "metadata": {},
   "outputs": [],
   "source": [
    "# 불용어 제거\n",
    "\n",
    "SW_del=[]\n",
    "for i in data_st:\n",
    "    b=set(i)\n",
    "    SW_del.append(b-a)"
   ]
  },
  {
   "cell_type": "code",
   "execution_count": null,
   "metadata": {},
   "outputs": [],
   "source": [
    "# 확인\n",
    "\n",
    "SW_del[:2]"
   ]
  },
  {
   "cell_type": "code",
   "execution_count": null,
   "metadata": {},
   "outputs": [],
   "source": [
    "# set 변환이 된 데이터를 다시 리스트로 변환\n",
    "\n",
    "SW_del2=[]\n",
    "for i in range(len(SW_del)):\n",
    "    SW_del2.append(list(SW_del[i]))"
   ]
  },
  {
   "cell_type": "code",
   "execution_count": null,
   "metadata": {},
   "outputs": [],
   "source": [
    "# 확인\n",
    "\n",
    "print(SW_del2[2])\n",
    "print(data_st[2])"
   ]
  },
  {
   "cell_type": "code",
   "execution_count": null,
   "metadata": {},
   "outputs": [],
   "source": [
    "# data 컬럼에 추가\n",
    "\n",
    "data['n_pos_t']=SW_del2"
   ]
  },
  {
   "cell_type": "code",
   "execution_count": null,
   "metadata": {},
   "outputs": [],
   "source": [
    "# 확인\n",
    "\n",
    "data['n_pos_t']"
   ]
  },
  {
   "cell_type": "markdown",
   "metadata": {},
   "source": [
    "# content 불용어 제거를 위한 전처리"
   ]
  },
  {
   "cell_type": "code",
   "execution_count": null,
   "metadata": {},
   "outputs": [],
   "source": [
    "# pos_c 리스트안의 문자형 분리 & 특수문자 제거\n",
    "\n",
    "data_sp_c=[]\n",
    "for i in range(len(data)):\n",
    "    data_sp_c.append(data['pos_c'][i].split(','))\n",
    "    \n",
    "print(data_sp_c[0])"
   ]
  },
  {
   "cell_type": "code",
   "execution_count": null,
   "metadata": {},
   "outputs": [],
   "source": [
    "data_st_c=[]\n",
    "for i in range(len(data)):\n",
    "    data_st2_c=[]\n",
    "    for j in data_sp_c[i]:\n",
    "        data_st2_c.append(j.lstrip('[').rstrip('\"]').strip(\" ' \"))\n",
    "    data_st_c.append(data_st2_c)\n",
    "    \n",
    "data_st_c[0][1]"
   ]
  },
  {
   "cell_type": "markdown",
   "metadata": {},
   "source": [
    "# content 불용어 제거"
   ]
  },
  {
   "cell_type": "code",
   "execution_count": null,
   "metadata": {},
   "outputs": [],
   "source": [
    "# 불용어 제거\n",
    "SW_del_c=[]\n",
    "for i in data_st_c:\n",
    "    b2=set(i)\n",
    "    SW_del_c.append(b2-a)"
   ]
  },
  {
   "cell_type": "code",
   "execution_count": null,
   "metadata": {},
   "outputs": [],
   "source": [
    "# 확인\n",
    "\n",
    "SW_del_c[:2]"
   ]
  },
  {
   "cell_type": "code",
   "execution_count": null,
   "metadata": {},
   "outputs": [],
   "source": [
    "# set 변환이 된 데이터를 다시 리스트로 변환\n",
    "\n",
    "SW_del2_c=[]\n",
    "for i in range(len(SW_del_c)):\n",
    "    SW_del2_c.append(list(SW_del_c[i]))"
   ]
  },
  {
   "cell_type": "code",
   "execution_count": null,
   "metadata": {},
   "outputs": [],
   "source": [
    "# 확인\n",
    "\n",
    "print(SW_del2_c[0])\n",
    "print(data_st_c[0])"
   ]
  },
  {
   "cell_type": "code",
   "execution_count": null,
   "metadata": {},
   "outputs": [],
   "source": [
    "# data 컬럼에 추가\n",
    "\n",
    "data['n_pos_c']=SW_del2_c"
   ]
  },
  {
   "cell_type": "code",
   "execution_count": null,
   "metadata": {},
   "outputs": [],
   "source": [
    "# 확인\n",
    "\n",
    "data['n_pos_c']"
   ]
  },
  {
   "cell_type": "code",
   "execution_count": null,
   "metadata": {},
   "outputs": [],
   "source": [
    "# 엑셀 저장\n",
    "\n",
    "#data.to_excel('D:\\\\toy\\\\data\\\\online_new_nosw.xlsx',index=False)"
   ]
  }
 ],
 "metadata": {
  "kernelspec": {
   "display_name": "Python 3",
   "language": "python",
   "name": "python3"
  },
  "language_info": {
   "codemirror_mode": {
    "name": "ipython",
    "version": 3
   },
   "file_extension": ".py",
   "mimetype": "text/x-python",
   "name": "python",
   "nbconvert_exporter": "python",
   "pygments_lexer": "ipython3",
   "version": "3.7.6"
  }
 },
 "nbformat": 4,
 "nbformat_minor": 4
}
